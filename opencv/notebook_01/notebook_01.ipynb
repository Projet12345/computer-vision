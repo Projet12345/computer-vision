{
 "cells": [
  {
   "cell_type": "code",
   "execution_count": 32,
   "id": "7a662845",
   "metadata": {},
   "outputs": [],
   "source": [
    "import  cv2"
   ]
  },
  {
   "cell_type": "code",
   "execution_count": 33,
   "id": "14832e73",
   "metadata": {},
   "outputs": [],
   "source": [
    "# read the image \n",
    "image = cv2.imread('images/panda.jpeg')\n",
    "# Print the pixel value at (0, 0)\n",
    "print(image[0, 0])  # Example output: [54 93 38]\n",
    "# print image shape\n",
    "print(image.shape)\n",
    "# showing the image \n",
    "cv2.imshow('Panda Image', image)\n",
    "# Wait indefinitely for a key press\n",
    "cv2.waitKey(0) # or Change to a positive number to wait for that many milliseconds\n",
    "# Close the window\n",
    "cv2.destroyAllWindows()  "
   ]
  },
  {
   "cell_type": "code",
   "execution_count": 34,
   "id": "6f175a1a",
   "metadata": {},
   "outputs": [],
   "source": [
    "# read the image \n",
    "image = cv2.imread('images/panda.jpeg')\n",
    "# Convert to grayscale\n",
    "image = cv2.cvtColor(image, cv2.COLOR_BGR2GRAY)\n",
    "# Print the pixel value at (0, 0)\n",
    "print(gray_image[0, 0])  # Example output: 72\n",
    "# print image shape\n",
    "print(image.shape)\n",
    "# showing the image \n",
    "cv2.imshow('Grayscale Panda Image', image)\n",
    "# Wait indefinitely for a key press\n",
    "cv2.waitKey(0) # or Change to a positive number to wait for that many milliseconds\n",
    "# Close the window\n",
    "cv2.destroyAllWindows()  "
   ]
  }
 ],
 "metadata": {
  "kernelspec": {
   "display_name": "Python 3 (ipykernel)",
   "language": "python",
   "name": "python3"
  },
  "language_info": {
   "codemirror_mode": {
    "name": "ipython",
    "version": 3
   },
   "file_extension": ".py",
   "mimetype": "text/x-python",
   "name": "python",
   "nbconvert_exporter": "python",
   "pygments_lexer": "ipython3",
   "version": "3.8.10"
  }
 },
 "nbformat": 4,
 "nbformat_minor": 5
}
